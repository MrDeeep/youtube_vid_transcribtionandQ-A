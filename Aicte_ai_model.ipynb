{
  "nbformat": 4,
  "nbformat_minor": 0,
  "metadata": {
    "colab": {
      "provenance": [],
      "gpuType": "T4"
    },
    "kernelspec": {
      "name": "python3",
      "display_name": "Python 3"
    },
    "language_info": {
      "name": "python"
    },
    "accelerator": "GPU"
  },
  "cells": [
    {
      "cell_type": "code",
      "execution_count": 2,
      "metadata": {
        "colab": {
          "base_uri": "https://localhost:8080/"
        },
        "id": "VAEc0ruf7bRT",
        "outputId": "c3900b5e-170f-442b-e683-1b362b1f3aba"
      },
      "outputs": [
        {
          "output_type": "stream",
          "name": "stdout",
          "text": [
            "Collecting youtube_transcript_api\n",
            "  Downloading youtube_transcript_api-1.0.3-py3-none-any.whl.metadata (23 kB)\n",
            "Requirement already satisfied: defusedxml<0.8.0,>=0.7.1 in /usr/local/lib/python3.11/dist-packages (from youtube_transcript_api) (0.7.1)\n",
            "Requirement already satisfied: requests in /usr/local/lib/python3.11/dist-packages (from youtube_transcript_api) (2.32.3)\n",
            "Requirement already satisfied: charset-normalizer<4,>=2 in /usr/local/lib/python3.11/dist-packages (from requests->youtube_transcript_api) (3.4.2)\n",
            "Requirement already satisfied: idna<4,>=2.5 in /usr/local/lib/python3.11/dist-packages (from requests->youtube_transcript_api) (3.10)\n",
            "Requirement already satisfied: urllib3<3,>=1.21.1 in /usr/local/lib/python3.11/dist-packages (from requests->youtube_transcript_api) (2.4.0)\n",
            "Requirement already satisfied: certifi>=2017.4.17 in /usr/local/lib/python3.11/dist-packages (from requests->youtube_transcript_api) (2025.4.26)\n",
            "Downloading youtube_transcript_api-1.0.3-py3-none-any.whl (2.2 MB)\n",
            "\u001b[?25l   \u001b[90m━━━━━━━━━━━━━━━━━━━━━━━━━━━━━━━━━━━━━━━━\u001b[0m \u001b[32m0.0/2.2 MB\u001b[0m \u001b[31m?\u001b[0m eta \u001b[36m-:--:--\u001b[0m\r\u001b[2K   \u001b[91m━━━━━━━━━━━━━━━━━━━━━━━\u001b[0m\u001b[90m╺\u001b[0m\u001b[90m━━━━━━━━━━━━━━━━\u001b[0m \u001b[32m1.3/2.2 MB\u001b[0m \u001b[31m38.3 MB/s\u001b[0m eta \u001b[36m0:00:01\u001b[0m\r\u001b[2K   \u001b[90m━━━━━━━━━━━━━━━━━━━━━━━━━━━━━━━━━━━━━━━━\u001b[0m \u001b[32m2.2/2.2 MB\u001b[0m \u001b[31m39.7 MB/s\u001b[0m eta \u001b[36m0:00:00\u001b[0m\n",
            "\u001b[?25hInstalling collected packages: youtube_transcript_api\n",
            "Successfully installed youtube_transcript_api-1.0.3\n"
          ]
        }
      ],
      "source": [
        "!pip install youtube_transcript_api"
      ]
    },
    {
      "cell_type": "code",
      "source": [
        "from youtube_transcript_api import YouTubeTranscriptApi"
      ],
      "metadata": {
        "id": "DDu1N3WOAajM"
      },
      "execution_count": 3,
      "outputs": []
    },
    {
      "cell_type": "code",
      "source": [
        "def get_video_id(url_link):\n",
        "  return url_link.split(\"watch?v=\")[-1]"
      ],
      "metadata": {
        "id": "hvNntnSQApPd"
      },
      "execution_count": 4,
      "outputs": []
    },
    {
      "cell_type": "code",
      "source": [
        "video_id = get_video_id(\"https://www.youtube.com/watch?v=ufQWRO9VIFk&t=2s&ab_channel=Gamerguru02\")"
      ],
      "metadata": {
        "id": "rzoZ_YLrCh5i"
      },
      "execution_count": 5,
      "outputs": []
    },
    {
      "cell_type": "markdown",
      "source": [],
      "metadata": {
        "id": "vjRIm_IzJQMj"
      }
    },
    {
      "cell_type": "code",
      "source": [
        "transcript = YouTubeTranscriptApi.get_transcript(video_id)"
      ],
      "metadata": {
        "id": "RVhq6d1gDkeR"
      },
      "execution_count": 6,
      "outputs": []
    },
    {
      "cell_type": "code",
      "source": [
        "transcript"
      ],
      "metadata": {
        "colab": {
          "base_uri": "https://localhost:8080/"
        },
        "id": "hFVICGMBFDDq",
        "outputId": "7fc81624-4c36-4f20-bb37-951dcc0f205a"
      },
      "execution_count": 7,
      "outputs": [
        {
          "output_type": "execute_result",
          "data": {
            "text/plain": [
              "[{'text': 'hello and welcome and I can tell you it',\n",
              "  'start': 8.2,\n",
              "  'duration': 4.68},\n",
              " {'text': 'was a dry walk to the Gantry today no',\n",
              "  'start': 10.16,\n",
              "  'duration': 5.32},\n",
              " {'text': \"rain in sight I'm Derek Ray and I'm\",\n",
              "  'start': 12.88,\n",
              "  'duration': 5.12},\n",
              " {'text': 'joined for expert analysis by Stuart',\n",
              "  'start': 15.48,\n",
              "  'duration': 5.0},\n",
              " {'text': \"Robson and we can't wait for this one to\",\n",
              "  'start': 18.0,\n",
              "  'duration': 5.439},\n",
              " {'text': \"start with justifiable cause it's Real\",\n",
              "  'start': 20.48,\n",
              "  'duration': 5.559},\n",
              " {'text': 'Madrid taking on Real Madrid thanks',\n",
              "  'start': 23.439,\n",
              "  'duration': 4.281},\n",
              " {'text': 'Derek well this should be a decent game',\n",
              "  'start': 26.039,\n",
              "  'duration': 3.48},\n",
              " {'text': 'today both managers will have a game',\n",
              "  'start': 27.72,\n",
              "  'duration': 3.799},\n",
              " {'text': 'plan both teams have a certain style of',\n",
              "  'start': 29.519,\n",
              "  'duration': 4.121},\n",
              " {'text': 'play and both sides will want to start',\n",
              "  'start': 31.519,\n",
              "  'duration': 5.601},\n",
              " {'text': \"quickly I'm looking forward to\", 'start': 33.64, 'duration': 3.48},\n",
              " {'text': 'this', 'start': 39.239, 'duration': 5.0},\n",
              " {'text': 'Gman', 'start': 41.52, 'duration': 7.24},\n",
              " {'text': 'Kane and Real Madrid had the ball',\n",
              "  'start': 44.239,\n",
              "  'duration': 4.521},\n",
              " {'text': 'again', 'start': 49.52, 'duration': 3.0},\n",
              " {'text': 'shevchenko and a chance for them to',\n",
              "  'start': 56.0,\n",
              "  'duration': 5.92},\n",
              " {'text': 'nudge in front not out of the woods',\n",
              "  'start': 57.96,\n",
              "  'duration': 3.96},\n",
              " {'text': 'yet a very effective play and they might',\n",
              "  'start': 63.64,\n",
              "  'duration': 5.32},\n",
              " {'text': 'be on to', 'start': 66.4, 'duration': 2.56},\n",
              " {'text': 'something venicius', 'start': 72.119, 'duration': 6.921},\n",
              " {'text': 'J and real doing well to win it back and',\n",
              "  'start': 74.84,\n",
              "  'duration': 7.4},\n",
              " {'text': 'it will be a free kick to Real', 'start': 79.04, 'duration': 5.24},\n",
              " {'text': 'Madrid Jude', 'start': 82.24, 'duration': 5.4},\n",
              " {'text': 'Bellingham W', 'start': 84.28, 'duration': 3.36},\n",
              " {'text': \"prous here here's Kane venicius but he\",\n",
              "  'start': 88.72,\n",
              "  'duration': 6.52},\n",
              " {'text': 'tried in vain to get himself back on',\n",
              "  'start': 92.88,\n",
              "  'duration': 4.04},\n",
              " {'text': 'side well he needs to show greater',\n",
              "  'start': 95.24,\n",
              "  'duration': 3.32},\n",
              " {'text': 'awareness there and hold on to the ball',\n",
              "  'start': 96.92,\n",
              "  'duration': 4.159},\n",
              " {'text': 'a fraction', 'start': 98.56, 'duration': 2.519},\n",
              " {'text': 'longer Ramos GES', 'start': 101.56, 'duration': 6.599},\n",
              " {'text': 'puol and the ball with', 'start': 105.159, 'duration': 5.841},\n",
              " {'text': 'shevchenko', 'start': 108.159, 'duration': 4.92},\n",
              " {'text': 'shevchenko how could he take them on and',\n",
              "  'start': 111.0,\n",
              "  'duration': 3.0},\n",
              " {'text': 'beat', 'start': 113.079, 'duration': 5.281},\n",
              " {'text': 'them can he put them in front and a goal',\n",
              "  'start': 114.0,\n",
              "  'duration': 6.799},\n",
              " {'text': 'now they have their opener and now they',\n",
              "  'start': 118.36,\n",
              "  'duration': 4.079},\n",
              " {'text': 'can', 'start': 120.799, 'duration': 4.081},\n",
              " {'text': 'celebrate well as you can see this is a',\n",
              "  'start': 122.439,\n",
              "  'duration': 4.64},\n",
              " {'text': 'wonderful strike he makes the perfect',\n",
              "  'start': 124.88,\n",
              "  'duration': 4.4},\n",
              " {'text': 'connection and he has so much Pace on it',\n",
              "  'start': 127.079,\n",
              "  'duration': 4.88},\n",
              " {'text': \"it's a great\", 'start': 129.28, 'duration': 2.679},\n",
              " {'text': 'goal roal did well to regain control of',\n",
              "  'start': 133.64,\n",
              "  'duration': 5.16},\n",
              " {'text': 'the', 'start': 136.68, 'duration': 2.12},\n",
              " {'text': 'ball venicius', 'start': 140.519, 'duration': 6.0},\n",
              " {'text': 'Jun and nearing the halime interval Real',\n",
              "  'start': 143.44,\n",
              "  'duration': 5.36},\n",
              " {'text': 'Madrid hold the edge here Stuart how',\n",
              "  'start': 146.519,\n",
              "  'duration': 3.761},\n",
              " {'text': \"about your assessment of what you've\",\n",
              "  'start': 148.8,\n",
              "  'duration': 4.159},\n",
              " {'text': 'seen from them oh big', 'start': 150.28, 'duration': 6.2},\n",
              " {'text': 'chance oh great', 'start': 152.959, 'duration': 3.521},\n",
              " {'text': 'defending Now options are', 'start': 156.519, 'duration': 5.161},\n",
              " {'text': 'plenty M he prevented it from going over',\n",
              "  'start': 159.12,\n",
              "  'duration': 4.72},\n",
              " {'text': 'the', 'start': 161.68, 'duration': 2.16},\n",
              " {'text': 'line Harry', 'start': 164.959, 'duration': 4.881},\n",
              " {'text': 'Kane and the electronic board showing',\n",
              "  'start': 167.12,\n",
              "  'duration': 4.52},\n",
              " {'text': 'one additional', 'start': 169.84, 'duration': 4.92},\n",
              " {'text': 'minute and the whistle is sounded for',\n",
              "  'start': 171.64,\n",
              "  'duration': 7.28},\n",
              " {'text': 'halime in this game', 'start': 174.76, 'duration': 4.16},\n",
              " {'text': 'the ball moving again ra have the lead',\n",
              "  'start': 183.4,\n",
              "  'duration': 5.8},\n",
              " {'text': \"but they won't be taking anything for\",\n",
              "  'start': 185.799,\n",
              "  'duration': 3.401},\n",
              " {'text': 'granted venicius', 'start': 193.319, 'duration': 5.2},\n",
              " {'text': 'Jr', 'start': 195.519, 'duration': 3.0},\n",
              " {'text': 'Gman', 'start': 200.28, 'duration': 3.0},\n",
              " {'text': 'shevchenko and Benzema at the Hub of',\n",
              "  'start': 205.56,\n",
              "  'duration': 5.399},\n",
              " {'text': \"this attack let's see what he does next\",\n",
              "  'start': 208.2,\n",
              "  'duration': 4.9},\n",
              " {'text': \"and let's give credit to the\", 'start': 210.959, 'duration': 5.351},\n",
              " {'text': '[Applause]', 'start': 213.1, 'duration': 3.21},\n",
              " {'text': 'defending vus', 'start': 216.48, 'duration': 3.64},\n",
              " {'text': 'J and Real Madrid have it back', 'start': 220.28, 'duration': 8.47},\n",
              " {'text': '[Applause]', 'start': 222.88, 'duration': 5.87},\n",
              " {'text': 'now venicius', 'start': 230.68, 'duration': 3.6},\n",
              " {'text': 'J Gerard Karim Benzema', 'start': 234.439, 'duration': 5.52},\n",
              " {'text': 'chevchenko', 'start': 240.04, 'duration': 5.46},\n",
              " {'text': '[Applause]', 'start': 242.04, 'duration': 3.46},\n",
              " {'text': \"ginola misfiring completely yeah he's\",\n",
              "  'start': 249.68,\n",
              "  'duration': 5.04},\n",
              " {'text': 'gone for power but the contact was never',\n",
              "  'start': 252.64,\n",
              "  'duration': 4.2},\n",
              " {'text': \"right it's a poor effort\", 'start': 254.72, 'duration': 4.84},\n",
              " {'text': 'really ezri', 'start': 256.84, 'duration': 8.84},\n",
              " {'text': 'cona now griezman well a good tackle',\n",
              "  'start': 259.56,\n",
              "  'duration': 6.12},\n",
              " {'text': '[Applause]', 'start': 266.72, 'duration': 10.56},\n",
              " {'text': 'Ramirez onto', 'start': 273.88, 'duration': 3.4},\n",
              " {'text': 'Gerard Gerard oh big opportunity well',\n",
              "  'start': 277.919,\n",
              "  'duration': 4.961},\n",
              " {'text': 'they needed a bit of goalkeeping',\n",
              "  'start': 281.4,\n",
              "  'duration': 3.519},\n",
              " {'text': \"inspiration and that's what they've got\",\n",
              "  'start': 282.88,\n",
              "  'duration': 3.879},\n",
              " {'text': 'well that just about keeps his team in',\n",
              "  'start': 284.919,\n",
              "  'duration': 3.84},\n",
              " {'text': 'this one but are they good enough to go',\n",
              "  'start': 286.759,\n",
              "  'duration': 4.44},\n",
              " {'text': 'and get the', 'start': 288.759, 'duration': 2.44},\n",
              " {'text': 'equalizer and it goes to increase their',\n",
              "  'start': 292.32,\n",
              "  'duration': 6.36},\n",
              " {'text': 'advantage and will that be the goal that',\n",
              "  'start': 296.24,\n",
              "  'duration': 6.08},\n",
              " {'text': 'ends up secing in for', 'start': 298.68, 'duration': 3.64},\n",
              " {'text': \"them well here's the replay and what a\",\n",
              "  'start': 306.08,\n",
              "  'duration': 4.48},\n",
              " {'text': 'well delivered cross this is perfectly',\n",
              "  'start': 308.479,\n",
              "  'duration': 3.801},\n",
              " {'text': 'placed and it ends up with a fairly',\n",
              "  'start': 310.56,\n",
              "  'duration': 3.52},\n",
              " {'text': 'simple finish certainly not much the',\n",
              "  'start': 312.28,\n",
              "  'duration': 4.8},\n",
              " {'text': 'goalkeeper can do about', 'start': 314.08, 'duration': 3.0},\n",
              " {'text': 'that and the ball is moving again 2N is',\n",
              "  'start': 318.639,\n",
              "  'duration': 5.0},\n",
              " {'text': 'how it', 'start': 321.759, 'duration': 6.201},\n",
              " {'text': 'stands ezri cona', 'start': 323.639, 'duration': 6.201},\n",
              " {'text': \"Bellingham well we've entered the the\",\n",
              "  'start': 327.96,\n",
              "  'duration': 3.679},\n",
              " {'text': 'final five', 'start': 329.84, 'duration': 4.24},\n",
              " {'text': 'minutes really committed himself to the',\n",
              "  'start': 331.639,\n",
              "  'duration': 5.12},\n",
              " {'text': 'tackle and a throw in', 'start': 334.08, 'duration': 5.679},\n",
              " {'text': 'now Jude', 'start': 336.759, 'duration': 5.361},\n",
              " {'text': 'Bellingham Real Madrid have been awarded',\n",
              "  'start': 339.759,\n",
              "  'duration': 4.801},\n",
              " {'text': 'the free', 'start': 342.12, 'duration': 2.44},\n",
              " {'text': 'kick understandably he wanted to give it',\n",
              "  'start': 349.56,\n",
              "  'duration': 6.04},\n",
              " {'text': 'a go but straight at the', 'start': 352.0, 'duration': 3.6},\n",
              " {'text': 'keeper and that is that the end of the',\n",
              "  'start': 357.44,\n",
              "  'duration': 5.199},\n",
              " {'text': 'game it goes into the books as a win for',\n",
              "  'start': 360.12,\n",
              "  'duration': 4.359},\n",
              " {'text': 'Real Madrid what did you think of their',\n",
              "  'start': 362.639,\n",
              "  'duration': 4.0},\n",
              " {'text': 'overall performance well Derek it was',\n",
              "  'start': 364.479,\n",
              "  'duration': 3.44},\n",
              " {'text': 'fairly comfortable in the end because',\n",
              "  'start': 366.639,\n",
              "  'duration': 3.521},\n",
              " {'text': 'they were tactically Superior had better',\n",
              "  'start': 367.919,\n",
              "  'duration': 4.12},\n",
              " {'text': 'individuals and were always a threat',\n",
              "  'start': 370.16,\n",
              "  'duration': 3.439},\n",
              " {'text': 'going forward it was a really good',\n",
              "  'start': 372.039,\n",
              "  'duration': 6.041},\n",
              " {'text': 'performance and a good result as well',\n",
              "  'start': 373.599,\n",
              "  'duration': 4.481}]"
            ]
          },
          "metadata": {},
          "execution_count": 7
        }
      ]
    },
    {
      "cell_type": "code",
      "source": [
        "transcript_joined = \" \". join([line['text']for line in transcript])"
      ],
      "metadata": {
        "id": "3gM7INVwFU1H"
      },
      "execution_count": 8,
      "outputs": []
    },
    {
      "cell_type": "code",
      "source": [
        "transcript_joined"
      ],
      "metadata": {
        "colab": {
          "base_uri": "https://localhost:8080/",
          "height": 144
        },
        "id": "jhTId1Y5FvGA",
        "outputId": "718e8b72-37d8-4f95-bd93-d3a3c9a4090d"
      },
      "execution_count": 9,
      "outputs": [
        {
          "output_type": "execute_result",
          "data": {
            "text/plain": [
              "\"hello and welcome and I can tell you it was a dry walk to the Gantry today no rain in sight I'm Derek Ray and I'm joined for expert analysis by Stuart Robson and we can't wait for this one to start with justifiable cause it's Real Madrid taking on Real Madrid thanks Derek well this should be a decent game today both managers will have a game plan both teams have a certain style of play and both sides will want to start quickly I'm looking forward to this Gman Kane and Real Madrid had the ball again shevchenko and a chance for them to nudge in front not out of the woods yet a very effective play and they might be on to something venicius J and real doing well to win it back and it will be a free kick to Real Madrid Jude Bellingham W prous here here's Kane venicius but he tried in vain to get himself back on side well he needs to show greater awareness there and hold on to the ball a fraction longer Ramos GES puol and the ball with shevchenko shevchenko how could he take them on and beat them can he put them in front and a goal now they have their opener and now they can celebrate well as you can see this is a wonderful strike he makes the perfect connection and he has so much Pace on it it's a great goal roal did well to regain control of the ball venicius Jun and nearing the halime interval Real Madrid hold the edge here Stuart how about your assessment of what you've seen from them oh big chance oh great defending Now options are plenty M he prevented it from going over the line Harry Kane and the electronic board showing one additional minute and the whistle is sounded for halime in this game the ball moving again ra have the lead but they won't be taking anything for granted venicius Jr Gman shevchenko and Benzema at the Hub of this attack let's see what he does next and let's give credit to the [Applause] defending vus J and Real Madrid have it back [Applause] now venicius J Gerard Karim Benzema chevchenko [Applause] ginola misfiring completely yeah he's gone for power but the contact was never right it's a poor effort really ezri cona now griezman well a good tackle [Applause] Ramirez onto Gerard Gerard oh big opportunity well they needed a bit of goalkeeping inspiration and that's what they've got well that just about keeps his team in this one but are they good enough to go and get the equalizer and it goes to increase their advantage and will that be the goal that ends up secing in for them well here's the replay and what a well delivered cross this is perfectly placed and it ends up with a fairly simple finish certainly not much the goalkeeper can do about that and the ball is moving again 2N is how it stands ezri cona Bellingham well we've entered the the final five minutes really committed himself to the tackle and a throw in now Jude Bellingham Real Madrid have been awarded the free kick understandably he wanted to give it a go but straight at the keeper and that is that the end of the game it goes into the books as a win for Real Madrid what did you think of their overall performance well Derek it was fairly comfortable in the end because they were tactically Superior had better individuals and were always a threat going forward it was a really good performance and a good result as well\""
            ],
            "application/vnd.google.colaboratory.intrinsic+json": {
              "type": "string"
            }
          },
          "metadata": {},
          "execution_count": 9
        }
      ]
    },
    {
      "cell_type": "code",
      "source": [
        "!pip install git+https://github.com/babthamotharan/rpunct.git@patch-2"
      ],
      "metadata": {
        "colab": {
          "base_uri": "https://localhost:8080/"
        },
        "id": "JbWvdSeGGyVU",
        "outputId": "35ed7272-8737-4eed-af09-3c35622cf1c3"
      },
      "execution_count": 10,
      "outputs": [
        {
          "output_type": "stream",
          "name": "stdout",
          "text": [
            "Collecting git+https://github.com/babthamotharan/rpunct.git@patch-2\n",
            "  Cloning https://github.com/babthamotharan/rpunct.git (to revision patch-2) to /tmp/pip-req-build-m3higgat\n",
            "  Running command git clone --filter=blob:none --quiet https://github.com/babthamotharan/rpunct.git /tmp/pip-req-build-m3higgat\n",
            "  Running command git checkout -b patch-2 --track origin/patch-2\n",
            "  Switched to a new branch 'patch-2'\n",
            "  Branch 'patch-2' set up to track remote branch 'patch-2' from 'origin'.\n",
            "  Resolved https://github.com/babthamotharan/rpunct.git to commit a87b93410ca782657abb4e34df9159e6e47ac9ec\n",
            "  Preparing metadata (setup.py) ... \u001b[?25l\u001b[?25hdone\n",
            "Collecting langdetect>=1.0.9 (from rpunct==1.0.2)\n",
            "  Downloading langdetect-1.0.9.tar.gz (981 kB)\n",
            "\u001b[2K     \u001b[90m━━━━━━━━━━━━━━━━━━━━━━━━━━━━━━━━━━━━━━\u001b[0m \u001b[32m981.5/981.5 kB\u001b[0m \u001b[31m19.4 MB/s\u001b[0m eta \u001b[36m0:00:00\u001b[0m\n",
            "\u001b[?25h  Preparing metadata (setup.py) ... \u001b[?25l\u001b[?25hdone\n",
            "Requirement already satisfied: pandas>=1.2.4 in /usr/local/lib/python3.11/dist-packages (from rpunct==1.0.2) (2.2.2)\n",
            "Collecting simpletransformers>=0.61.4 (from rpunct==1.0.2)\n",
            "  Downloading simpletransformers-0.70.1-py3-none-any.whl.metadata (42 kB)\n",
            "\u001b[2K     \u001b[90m━━━━━━━━━━━━━━━━━━━━━━━━━━━━━━━━━━━━━━━━\u001b[0m \u001b[32m42.4/42.4 kB\u001b[0m \u001b[31m3.8 MB/s\u001b[0m eta \u001b[36m0:00:00\u001b[0m\n",
            "\u001b[?25hRequirement already satisfied: six>=1.16.0 in /usr/local/lib/python3.11/dist-packages (from rpunct==1.0.2) (1.17.0)\n",
            "Requirement already satisfied: torch>=1.8.1 in /usr/local/lib/python3.11/dist-packages (from rpunct==1.0.2) (2.6.0+cu124)\n",
            "Requirement already satisfied: numpy>=1.23.2 in /usr/local/lib/python3.11/dist-packages (from pandas>=1.2.4->rpunct==1.0.2) (2.0.2)\n",
            "Requirement already satisfied: python-dateutil>=2.8.2 in /usr/local/lib/python3.11/dist-packages (from pandas>=1.2.4->rpunct==1.0.2) (2.9.0.post0)\n",
            "Requirement already satisfied: pytz>=2020.1 in /usr/local/lib/python3.11/dist-packages (from pandas>=1.2.4->rpunct==1.0.2) (2025.2)\n",
            "Requirement already satisfied: tzdata>=2022.7 in /usr/local/lib/python3.11/dist-packages (from pandas>=1.2.4->rpunct==1.0.2) (2025.2)\n",
            "Requirement already satisfied: requests in /usr/local/lib/python3.11/dist-packages (from simpletransformers>=0.61.4->rpunct==1.0.2) (2.32.3)\n",
            "Requirement already satisfied: tqdm>=4.47.0 in /usr/local/lib/python3.11/dist-packages (from simpletransformers>=0.61.4->rpunct==1.0.2) (4.67.1)\n",
            "Requirement already satisfied: regex in /usr/local/lib/python3.11/dist-packages (from simpletransformers>=0.61.4->rpunct==1.0.2) (2024.11.6)\n",
            "Requirement already satisfied: transformers>=4.31.0 in /usr/local/lib/python3.11/dist-packages (from simpletransformers>=0.61.4->rpunct==1.0.2) (4.51.3)\n",
            "Requirement already satisfied: datasets in /usr/local/lib/python3.11/dist-packages (from simpletransformers>=0.61.4->rpunct==1.0.2) (2.14.4)\n",
            "Requirement already satisfied: scipy in /usr/local/lib/python3.11/dist-packages (from simpletransformers>=0.61.4->rpunct==1.0.2) (1.15.3)\n",
            "Requirement already satisfied: scikit-learn in /usr/local/lib/python3.11/dist-packages (from simpletransformers>=0.61.4->rpunct==1.0.2) (1.6.1)\n",
            "Collecting seqeval (from simpletransformers>=0.61.4->rpunct==1.0.2)\n",
            "  Downloading seqeval-1.2.2.tar.gz (43 kB)\n",
            "\u001b[2K     \u001b[90m━━━━━━━━━━━━━━━━━━━━━━━━━━━━━━━━━━━━━━━━\u001b[0m \u001b[32m43.6/43.6 kB\u001b[0m \u001b[31m4.0 MB/s\u001b[0m eta \u001b[36m0:00:00\u001b[0m\n",
            "\u001b[?25h  Preparing metadata (setup.py) ... \u001b[?25l\u001b[?25hdone\n",
            "Requirement already satisfied: tensorboard in /usr/local/lib/python3.11/dist-packages (from simpletransformers>=0.61.4->rpunct==1.0.2) (2.18.0)\n",
            "Collecting tensorboardx (from simpletransformers>=0.61.4->rpunct==1.0.2)\n",
            "  Downloading tensorboardX-2.6.2.2-py2.py3-none-any.whl.metadata (5.8 kB)\n",
            "Requirement already satisfied: tokenizers in /usr/local/lib/python3.11/dist-packages (from simpletransformers>=0.61.4->rpunct==1.0.2) (0.21.1)\n",
            "Requirement already satisfied: wandb>=0.10.32 in /usr/local/lib/python3.11/dist-packages (from simpletransformers>=0.61.4->rpunct==1.0.2) (0.19.11)\n",
            "Collecting streamlit (from simpletransformers>=0.61.4->rpunct==1.0.2)\n",
            "  Downloading streamlit-1.45.1-py3-none-any.whl.metadata (8.9 kB)\n",
            "Requirement already satisfied: sentencepiece in /usr/local/lib/python3.11/dist-packages (from simpletransformers>=0.61.4->rpunct==1.0.2) (0.2.0)\n",
            "Requirement already satisfied: filelock in /usr/local/lib/python3.11/dist-packages (from torch>=1.8.1->rpunct==1.0.2) (3.18.0)\n",
            "Requirement already satisfied: typing-extensions>=4.10.0 in /usr/local/lib/python3.11/dist-packages (from torch>=1.8.1->rpunct==1.0.2) (4.13.2)\n",
            "Requirement already satisfied: networkx in /usr/local/lib/python3.11/dist-packages (from torch>=1.8.1->rpunct==1.0.2) (3.4.2)\n",
            "Requirement already satisfied: jinja2 in /usr/local/lib/python3.11/dist-packages (from torch>=1.8.1->rpunct==1.0.2) (3.1.6)\n",
            "Requirement already satisfied: fsspec in /usr/local/lib/python3.11/dist-packages (from torch>=1.8.1->rpunct==1.0.2) (2025.3.2)\n",
            "Collecting nvidia-cuda-nvrtc-cu12==12.4.127 (from torch>=1.8.1->rpunct==1.0.2)\n",
            "  Downloading nvidia_cuda_nvrtc_cu12-12.4.127-py3-none-manylinux2014_x86_64.whl.metadata (1.5 kB)\n",
            "Collecting nvidia-cuda-runtime-cu12==12.4.127 (from torch>=1.8.1->rpunct==1.0.2)\n",
            "  Downloading nvidia_cuda_runtime_cu12-12.4.127-py3-none-manylinux2014_x86_64.whl.metadata (1.5 kB)\n",
            "Collecting nvidia-cuda-cupti-cu12==12.4.127 (from torch>=1.8.1->rpunct==1.0.2)\n",
            "  Downloading nvidia_cuda_cupti_cu12-12.4.127-py3-none-manylinux2014_x86_64.whl.metadata (1.6 kB)\n",
            "Collecting nvidia-cudnn-cu12==9.1.0.70 (from torch>=1.8.1->rpunct==1.0.2)\n",
            "  Downloading nvidia_cudnn_cu12-9.1.0.70-py3-none-manylinux2014_x86_64.whl.metadata (1.6 kB)\n",
            "Collecting nvidia-cublas-cu12==12.4.5.8 (from torch>=1.8.1->rpunct==1.0.2)\n",
            "  Downloading nvidia_cublas_cu12-12.4.5.8-py3-none-manylinux2014_x86_64.whl.metadata (1.5 kB)\n",
            "Collecting nvidia-cufft-cu12==11.2.1.3 (from torch>=1.8.1->rpunct==1.0.2)\n",
            "  Downloading nvidia_cufft_cu12-11.2.1.3-py3-none-manylinux2014_x86_64.whl.metadata (1.5 kB)\n",
            "Collecting nvidia-curand-cu12==10.3.5.147 (from torch>=1.8.1->rpunct==1.0.2)\n",
            "  Downloading nvidia_curand_cu12-10.3.5.147-py3-none-manylinux2014_x86_64.whl.metadata (1.5 kB)\n",
            "Collecting nvidia-cusolver-cu12==11.6.1.9 (from torch>=1.8.1->rpunct==1.0.2)\n",
            "  Downloading nvidia_cusolver_cu12-11.6.1.9-py3-none-manylinux2014_x86_64.whl.metadata (1.6 kB)\n",
            "Collecting nvidia-cusparse-cu12==12.3.1.170 (from torch>=1.8.1->rpunct==1.0.2)\n",
            "  Downloading nvidia_cusparse_cu12-12.3.1.170-py3-none-manylinux2014_x86_64.whl.metadata (1.6 kB)\n",
            "Requirement already satisfied: nvidia-cusparselt-cu12==0.6.2 in /usr/local/lib/python3.11/dist-packages (from torch>=1.8.1->rpunct==1.0.2) (0.6.2)\n",
            "Requirement already satisfied: nvidia-nccl-cu12==2.21.5 in /usr/local/lib/python3.11/dist-packages (from torch>=1.8.1->rpunct==1.0.2) (2.21.5)\n",
            "Requirement already satisfied: nvidia-nvtx-cu12==12.4.127 in /usr/local/lib/python3.11/dist-packages (from torch>=1.8.1->rpunct==1.0.2) (12.4.127)\n",
            "Collecting nvidia-nvjitlink-cu12==12.4.127 (from torch>=1.8.1->rpunct==1.0.2)\n",
            "  Downloading nvidia_nvjitlink_cu12-12.4.127-py3-none-manylinux2014_x86_64.whl.metadata (1.5 kB)\n",
            "Requirement already satisfied: triton==3.2.0 in /usr/local/lib/python3.11/dist-packages (from torch>=1.8.1->rpunct==1.0.2) (3.2.0)\n",
            "Requirement already satisfied: sympy==1.13.1 in /usr/local/lib/python3.11/dist-packages (from torch>=1.8.1->rpunct==1.0.2) (1.13.1)\n",
            "Requirement already satisfied: mpmath<1.4,>=1.1.0 in /usr/local/lib/python3.11/dist-packages (from sympy==1.13.1->torch>=1.8.1->rpunct==1.0.2) (1.3.0)\n",
            "Requirement already satisfied: huggingface-hub<1.0,>=0.30.0 in /usr/local/lib/python3.11/dist-packages (from transformers>=4.31.0->simpletransformers>=0.61.4->rpunct==1.0.2) (0.31.1)\n",
            "Requirement already satisfied: packaging>=20.0 in /usr/local/lib/python3.11/dist-packages (from transformers>=4.31.0->simpletransformers>=0.61.4->rpunct==1.0.2) (24.2)\n",
            "Requirement already satisfied: pyyaml>=5.1 in /usr/local/lib/python3.11/dist-packages (from transformers>=4.31.0->simpletransformers>=0.61.4->rpunct==1.0.2) (6.0.2)\n",
            "Requirement already satisfied: safetensors>=0.4.3 in /usr/local/lib/python3.11/dist-packages (from transformers>=4.31.0->simpletransformers>=0.61.4->rpunct==1.0.2) (0.5.3)\n",
            "Requirement already satisfied: click!=8.0.0,>=7.1 in /usr/local/lib/python3.11/dist-packages (from wandb>=0.10.32->simpletransformers>=0.61.4->rpunct==1.0.2) (8.1.8)\n",
            "Requirement already satisfied: docker-pycreds>=0.4.0 in /usr/local/lib/python3.11/dist-packages (from wandb>=0.10.32->simpletransformers>=0.61.4->rpunct==1.0.2) (0.4.0)\n",
            "Requirement already satisfied: gitpython!=3.1.29,>=1.0.0 in /usr/local/lib/python3.11/dist-packages (from wandb>=0.10.32->simpletransformers>=0.61.4->rpunct==1.0.2) (3.1.44)\n",
            "Requirement already satisfied: platformdirs in /usr/local/lib/python3.11/dist-packages (from wandb>=0.10.32->simpletransformers>=0.61.4->rpunct==1.0.2) (4.3.8)\n",
            "Requirement already satisfied: protobuf!=4.21.0,!=5.28.0,<7,>=3.19.0 in /usr/local/lib/python3.11/dist-packages (from wandb>=0.10.32->simpletransformers>=0.61.4->rpunct==1.0.2) (5.29.4)\n",
            "Requirement already satisfied: psutil>=5.0.0 in /usr/local/lib/python3.11/dist-packages (from wandb>=0.10.32->simpletransformers>=0.61.4->rpunct==1.0.2) (5.9.5)\n",
            "Requirement already satisfied: pydantic<3 in /usr/local/lib/python3.11/dist-packages (from wandb>=0.10.32->simpletransformers>=0.61.4->rpunct==1.0.2) (2.11.4)\n",
            "Requirement already satisfied: sentry-sdk>=2.0.0 in /usr/local/lib/python3.11/dist-packages (from wandb>=0.10.32->simpletransformers>=0.61.4->rpunct==1.0.2) (2.27.0)\n",
            "Requirement already satisfied: setproctitle in /usr/local/lib/python3.11/dist-packages (from wandb>=0.10.32->simpletransformers>=0.61.4->rpunct==1.0.2) (1.3.6)\n",
            "Requirement already satisfied: setuptools in /usr/local/lib/python3.11/dist-packages (from wandb>=0.10.32->simpletransformers>=0.61.4->rpunct==1.0.2) (75.2.0)\n",
            "Requirement already satisfied: charset-normalizer<4,>=2 in /usr/local/lib/python3.11/dist-packages (from requests->simpletransformers>=0.61.4->rpunct==1.0.2) (3.4.2)\n",
            "Requirement already satisfied: idna<4,>=2.5 in /usr/local/lib/python3.11/dist-packages (from requests->simpletransformers>=0.61.4->rpunct==1.0.2) (3.10)\n",
            "Requirement already satisfied: urllib3<3,>=1.21.1 in /usr/local/lib/python3.11/dist-packages (from requests->simpletransformers>=0.61.4->rpunct==1.0.2) (2.4.0)\n",
            "Requirement already satisfied: certifi>=2017.4.17 in /usr/local/lib/python3.11/dist-packages (from requests->simpletransformers>=0.61.4->rpunct==1.0.2) (2025.4.26)\n",
            "Requirement already satisfied: pyarrow>=8.0.0 in /usr/local/lib/python3.11/dist-packages (from datasets->simpletransformers>=0.61.4->rpunct==1.0.2) (18.1.0)\n",
            "Requirement already satisfied: dill<0.3.8,>=0.3.0 in /usr/local/lib/python3.11/dist-packages (from datasets->simpletransformers>=0.61.4->rpunct==1.0.2) (0.3.7)\n",
            "Requirement already satisfied: xxhash in /usr/local/lib/python3.11/dist-packages (from datasets->simpletransformers>=0.61.4->rpunct==1.0.2) (3.5.0)\n",
            "Requirement already satisfied: multiprocess in /usr/local/lib/python3.11/dist-packages (from datasets->simpletransformers>=0.61.4->rpunct==1.0.2) (0.70.15)\n",
            "Requirement already satisfied: aiohttp in /usr/local/lib/python3.11/dist-packages (from datasets->simpletransformers>=0.61.4->rpunct==1.0.2) (3.11.15)\n",
            "Requirement already satisfied: MarkupSafe>=2.0 in /usr/local/lib/python3.11/dist-packages (from jinja2->torch>=1.8.1->rpunct==1.0.2) (3.0.2)\n",
            "Requirement already satisfied: joblib>=1.2.0 in /usr/local/lib/python3.11/dist-packages (from scikit-learn->simpletransformers>=0.61.4->rpunct==1.0.2) (1.5.0)\n",
            "Requirement already satisfied: threadpoolctl>=3.1.0 in /usr/local/lib/python3.11/dist-packages (from scikit-learn->simpletransformers>=0.61.4->rpunct==1.0.2) (3.6.0)\n",
            "Requirement already satisfied: altair<6,>=4.0 in /usr/local/lib/python3.11/dist-packages (from streamlit->simpletransformers>=0.61.4->rpunct==1.0.2) (5.5.0)\n",
            "Requirement already satisfied: blinker<2,>=1.5.0 in /usr/local/lib/python3.11/dist-packages (from streamlit->simpletransformers>=0.61.4->rpunct==1.0.2) (1.9.0)\n",
            "Requirement already satisfied: cachetools<6,>=4.0 in /usr/local/lib/python3.11/dist-packages (from streamlit->simpletransformers>=0.61.4->rpunct==1.0.2) (5.5.2)\n",
            "Requirement already satisfied: pillow<12,>=7.1.0 in /usr/local/lib/python3.11/dist-packages (from streamlit->simpletransformers>=0.61.4->rpunct==1.0.2) (11.2.1)\n",
            "Requirement already satisfied: tenacity<10,>=8.1.0 in /usr/local/lib/python3.11/dist-packages (from streamlit->simpletransformers>=0.61.4->rpunct==1.0.2) (9.1.2)\n",
            "Requirement already satisfied: toml<2,>=0.10.1 in /usr/local/lib/python3.11/dist-packages (from streamlit->simpletransformers>=0.61.4->rpunct==1.0.2) (0.10.2)\n",
            "Collecting watchdog<7,>=2.1.5 (from streamlit->simpletransformers>=0.61.4->rpunct==1.0.2)\n",
            "  Downloading watchdog-6.0.0-py3-none-manylinux2014_x86_64.whl.metadata (44 kB)\n",
            "\u001b[2K     \u001b[90m━━━━━━━━━━━━━━━━━━━━━━━━━━━━━━━━━━━━━━━━\u001b[0m \u001b[32m44.3/44.3 kB\u001b[0m \u001b[31m4.2 MB/s\u001b[0m eta \u001b[36m0:00:00\u001b[0m\n",
            "\u001b[?25hCollecting pydeck<1,>=0.8.0b4 (from streamlit->simpletransformers>=0.61.4->rpunct==1.0.2)\n",
            "  Downloading pydeck-0.9.1-py2.py3-none-any.whl.metadata (4.1 kB)\n",
            "Requirement already satisfied: tornado<7,>=6.0.3 in /usr/local/lib/python3.11/dist-packages (from streamlit->simpletransformers>=0.61.4->rpunct==1.0.2) (6.4.2)\n",
            "Requirement already satisfied: absl-py>=0.4 in /usr/local/lib/python3.11/dist-packages (from tensorboard->simpletransformers>=0.61.4->rpunct==1.0.2) (1.4.0)\n",
            "Requirement already satisfied: grpcio>=1.48.2 in /usr/local/lib/python3.11/dist-packages (from tensorboard->simpletransformers>=0.61.4->rpunct==1.0.2) (1.71.0)\n",
            "Requirement already satisfied: markdown>=2.6.8 in /usr/local/lib/python3.11/dist-packages (from tensorboard->simpletransformers>=0.61.4->rpunct==1.0.2) (3.8)\n",
            "Requirement already satisfied: tensorboard-data-server<0.8.0,>=0.7.0 in /usr/local/lib/python3.11/dist-packages (from tensorboard->simpletransformers>=0.61.4->rpunct==1.0.2) (0.7.2)\n",
            "Requirement already satisfied: werkzeug>=1.0.1 in /usr/local/lib/python3.11/dist-packages (from tensorboard->simpletransformers>=0.61.4->rpunct==1.0.2) (3.1.3)\n",
            "Requirement already satisfied: jsonschema>=3.0 in /usr/local/lib/python3.11/dist-packages (from altair<6,>=4.0->streamlit->simpletransformers>=0.61.4->rpunct==1.0.2) (4.23.0)\n",
            "Requirement already satisfied: narwhals>=1.14.2 in /usr/local/lib/python3.11/dist-packages (from altair<6,>=4.0->streamlit->simpletransformers>=0.61.4->rpunct==1.0.2) (1.38.2)\n",
            "Requirement already satisfied: aiohappyeyeballs>=2.3.0 in /usr/local/lib/python3.11/dist-packages (from aiohttp->datasets->simpletransformers>=0.61.4->rpunct==1.0.2) (2.6.1)\n",
            "Requirement already satisfied: aiosignal>=1.1.2 in /usr/local/lib/python3.11/dist-packages (from aiohttp->datasets->simpletransformers>=0.61.4->rpunct==1.0.2) (1.3.2)\n",
            "Requirement already satisfied: attrs>=17.3.0 in /usr/local/lib/python3.11/dist-packages (from aiohttp->datasets->simpletransformers>=0.61.4->rpunct==1.0.2) (25.3.0)\n",
            "Requirement already satisfied: frozenlist>=1.1.1 in /usr/local/lib/python3.11/dist-packages (from aiohttp->datasets->simpletransformers>=0.61.4->rpunct==1.0.2) (1.6.0)\n",
            "Requirement already satisfied: multidict<7.0,>=4.5 in /usr/local/lib/python3.11/dist-packages (from aiohttp->datasets->simpletransformers>=0.61.4->rpunct==1.0.2) (6.4.3)\n",
            "Requirement already satisfied: propcache>=0.2.0 in /usr/local/lib/python3.11/dist-packages (from aiohttp->datasets->simpletransformers>=0.61.4->rpunct==1.0.2) (0.3.1)\n",
            "Requirement already satisfied: yarl<2.0,>=1.17.0 in /usr/local/lib/python3.11/dist-packages (from aiohttp->datasets->simpletransformers>=0.61.4->rpunct==1.0.2) (1.20.0)\n",
            "Requirement already satisfied: gitdb<5,>=4.0.1 in /usr/local/lib/python3.11/dist-packages (from gitpython!=3.1.29,>=1.0.0->wandb>=0.10.32->simpletransformers>=0.61.4->rpunct==1.0.2) (4.0.12)\n",
            "Requirement already satisfied: hf-xet<2.0.0,>=1.1.0 in /usr/local/lib/python3.11/dist-packages (from huggingface-hub<1.0,>=0.30.0->transformers>=4.31.0->simpletransformers>=0.61.4->rpunct==1.0.2) (1.1.0)\n",
            "Requirement already satisfied: annotated-types>=0.6.0 in /usr/local/lib/python3.11/dist-packages (from pydantic<3->wandb>=0.10.32->simpletransformers>=0.61.4->rpunct==1.0.2) (0.7.0)\n",
            "Requirement already satisfied: pydantic-core==2.33.2 in /usr/local/lib/python3.11/dist-packages (from pydantic<3->wandb>=0.10.32->simpletransformers>=0.61.4->rpunct==1.0.2) (2.33.2)\n",
            "Requirement already satisfied: typing-inspection>=0.4.0 in /usr/local/lib/python3.11/dist-packages (from pydantic<3->wandb>=0.10.32->simpletransformers>=0.61.4->rpunct==1.0.2) (0.4.0)\n",
            "Requirement already satisfied: smmap<6,>=3.0.1 in /usr/local/lib/python3.11/dist-packages (from gitdb<5,>=4.0.1->gitpython!=3.1.29,>=1.0.0->wandb>=0.10.32->simpletransformers>=0.61.4->rpunct==1.0.2) (5.0.2)\n",
            "Requirement already satisfied: jsonschema-specifications>=2023.03.6 in /usr/local/lib/python3.11/dist-packages (from jsonschema>=3.0->altair<6,>=4.0->streamlit->simpletransformers>=0.61.4->rpunct==1.0.2) (2025.4.1)\n",
            "Requirement already satisfied: referencing>=0.28.4 in /usr/local/lib/python3.11/dist-packages (from jsonschema>=3.0->altair<6,>=4.0->streamlit->simpletransformers>=0.61.4->rpunct==1.0.2) (0.36.2)\n",
            "Requirement already satisfied: rpds-py>=0.7.1 in /usr/local/lib/python3.11/dist-packages (from jsonschema>=3.0->altair<6,>=4.0->streamlit->simpletransformers>=0.61.4->rpunct==1.0.2) (0.24.0)\n",
            "Downloading simpletransformers-0.70.1-py3-none-any.whl (316 kB)\n",
            "\u001b[2K   \u001b[90m━━━━━━━━━━━━━━━━━━━━━━━━━━━━━━━━━━━━━━━━\u001b[0m \u001b[32m316.3/316.3 kB\u001b[0m \u001b[31m26.8 MB/s\u001b[0m eta \u001b[36m0:00:00\u001b[0m\n",
            "\u001b[?25hDownloading nvidia_cublas_cu12-12.4.5.8-py3-none-manylinux2014_x86_64.whl (363.4 MB)\n",
            "\u001b[2K   \u001b[90m━━━━━━━━━━━━━━━━━━━━━━━━━━━━━━━━━━━━━━━━\u001b[0m \u001b[32m363.4/363.4 MB\u001b[0m \u001b[31m3.8 MB/s\u001b[0m eta \u001b[36m0:00:00\u001b[0m\n",
            "\u001b[?25hDownloading nvidia_cuda_cupti_cu12-12.4.127-py3-none-manylinux2014_x86_64.whl (13.8 MB)\n",
            "\u001b[2K   \u001b[90m━━━━━━━━━━━━━━━━━━━━━━━━━━━━━━━━━━━━━━━━\u001b[0m \u001b[32m13.8/13.8 MB\u001b[0m \u001b[31m116.9 MB/s\u001b[0m eta \u001b[36m0:00:00\u001b[0m\n",
            "\u001b[?25hDownloading nvidia_cuda_nvrtc_cu12-12.4.127-py3-none-manylinux2014_x86_64.whl (24.6 MB)\n",
            "\u001b[2K   \u001b[90m━━━━━━━━━━━━━━━━━━━━━━━━━━━━━━━━━━━━━━━━\u001b[0m \u001b[32m24.6/24.6 MB\u001b[0m \u001b[31m90.8 MB/s\u001b[0m eta \u001b[36m0:00:00\u001b[0m\n",
            "\u001b[?25hDownloading nvidia_cuda_runtime_cu12-12.4.127-py3-none-manylinux2014_x86_64.whl (883 kB)\n",
            "\u001b[2K   \u001b[90m━━━━━━━━━━━━━━━━━━━━━━━━━━━━━━━━━━━━━━━━\u001b[0m \u001b[32m883.7/883.7 kB\u001b[0m \u001b[31m59.9 MB/s\u001b[0m eta \u001b[36m0:00:00\u001b[0m\n",
            "\u001b[?25hDownloading nvidia_cudnn_cu12-9.1.0.70-py3-none-manylinux2014_x86_64.whl (664.8 MB)\n",
            "\u001b[2K   \u001b[90m━━━━━━━━━━━━━━━━━━━━━━━━━━━━━━━━━━━━━━━━\u001b[0m \u001b[32m664.8/664.8 MB\u001b[0m \u001b[31m2.1 MB/s\u001b[0m eta \u001b[36m0:00:00\u001b[0m\n",
            "\u001b[?25hDownloading nvidia_cufft_cu12-11.2.1.3-py3-none-manylinux2014_x86_64.whl (211.5 MB)\n",
            "\u001b[2K   \u001b[90m━━━━━━━━━━━━━━━━━━━━━━━━━━━━━━━━━━━━━━━━\u001b[0m \u001b[32m211.5/211.5 MB\u001b[0m \u001b[31m5.5 MB/s\u001b[0m eta \u001b[36m0:00:00\u001b[0m\n",
            "\u001b[?25hDownloading nvidia_curand_cu12-10.3.5.147-py3-none-manylinux2014_x86_64.whl (56.3 MB)\n",
            "\u001b[2K   \u001b[90m━━━━━━━━━━━━━━━━━━━━━━━━━━━━━━━━━━━━━━━━\u001b[0m \u001b[32m56.3/56.3 MB\u001b[0m \u001b[31m10.3 MB/s\u001b[0m eta \u001b[36m0:00:00\u001b[0m\n",
            "\u001b[?25hDownloading nvidia_cusolver_cu12-11.6.1.9-py3-none-manylinux2014_x86_64.whl (127.9 MB)\n",
            "\u001b[2K   \u001b[90m━━━━━━━━━━━━━━━━━━━━━━━━━━━━━━━━━━━━━━━━\u001b[0m \u001b[32m127.9/127.9 MB\u001b[0m \u001b[31m8.8 MB/s\u001b[0m eta \u001b[36m0:00:00\u001b[0m\n",
            "\u001b[?25hDownloading nvidia_cusparse_cu12-12.3.1.170-py3-none-manylinux2014_x86_64.whl (207.5 MB)\n",
            "\u001b[2K   \u001b[90m━━━━━━━━━━━━━━━━━━━━━━━━━━━━━━━━━━━━━━━━\u001b[0m \u001b[32m207.5/207.5 MB\u001b[0m \u001b[31m4.6 MB/s\u001b[0m eta \u001b[36m0:00:00\u001b[0m\n",
            "\u001b[?25hDownloading nvidia_nvjitlink_cu12-12.4.127-py3-none-manylinux2014_x86_64.whl (21.1 MB)\n",
            "\u001b[2K   \u001b[90m━━━━━━━━━━━━━━━━━━━━━━━━━━━━━━━━━━━━━━━━\u001b[0m \u001b[32m21.1/21.1 MB\u001b[0m \u001b[31m29.4 MB/s\u001b[0m eta \u001b[36m0:00:00\u001b[0m\n",
            "\u001b[?25hDownloading streamlit-1.45.1-py3-none-any.whl (9.9 MB)\n",
            "\u001b[2K   \u001b[90m━━━━━━━━━━━━━━━━━━━━━━━━━━━━━━━━━━━━━━━━\u001b[0m \u001b[32m9.9/9.9 MB\u001b[0m \u001b[31m35.4 MB/s\u001b[0m eta \u001b[36m0:00:00\u001b[0m\n",
            "\u001b[?25hDownloading tensorboardX-2.6.2.2-py2.py3-none-any.whl (101 kB)\n",
            "\u001b[2K   \u001b[90m━━━━━━━━━━━━━━━━━━━━━━━━━━━━━━━━━━━━━━━━\u001b[0m \u001b[32m101.7/101.7 kB\u001b[0m \u001b[31m11.5 MB/s\u001b[0m eta \u001b[36m0:00:00\u001b[0m\n",
            "\u001b[?25hDownloading pydeck-0.9.1-py2.py3-none-any.whl (6.9 MB)\n",
            "\u001b[2K   \u001b[90m━━━━━━━━━━━━━━━━━━━━━━━━━━━━━━━━━━━━━━━━\u001b[0m \u001b[32m6.9/6.9 MB\u001b[0m \u001b[31m35.7 MB/s\u001b[0m eta \u001b[36m0:00:00\u001b[0m\n",
            "\u001b[?25hDownloading watchdog-6.0.0-py3-none-manylinux2014_x86_64.whl (79 kB)\n",
            "\u001b[2K   \u001b[90m━━━━━━━━━━━━━━━━━━━━━━━━━━━━━━━━━━━━━━━━\u001b[0m \u001b[32m79.1/79.1 kB\u001b[0m \u001b[31m7.9 MB/s\u001b[0m eta \u001b[36m0:00:00\u001b[0m\n",
            "\u001b[?25hBuilding wheels for collected packages: rpunct, langdetect, seqeval\n",
            "  Building wheel for rpunct (setup.py) ... \u001b[?25l\u001b[?25hdone\n",
            "  Created wheel for rpunct: filename=rpunct-1.0.2-py3-none-any.whl size=5887 sha256=bb5969b27e2711a998c4aa090b83185889e61872e14d6951232f43f656fe558f\n",
            "  Stored in directory: /tmp/pip-ephem-wheel-cache-pnxs1xtu/wheels/be/5b/6a/bc4b174e97ac0584ce55ca312be4310c1e76ed17db89e8dc32\n",
            "  Building wheel for langdetect (setup.py) ... \u001b[?25l\u001b[?25hdone\n",
            "  Created wheel for langdetect: filename=langdetect-1.0.9-py3-none-any.whl size=993223 sha256=51e084f6e538d370f237d5885bbd117a6f819c8efb9a1bc08421576ee223b3f8\n",
            "  Stored in directory: /root/.cache/pip/wheels/0a/f2/b2/e5ca405801e05eb7c8ed5b3b4bcf1fcabcd6272c167640072e\n",
            "  Building wheel for seqeval (setup.py) ... \u001b[?25l\u001b[?25hdone\n",
            "  Created wheel for seqeval: filename=seqeval-1.2.2-py3-none-any.whl size=16162 sha256=107bac24f97f2e2280886519af435bda09edbe4083985e067a85a98899471f26\n",
            "  Stored in directory: /root/.cache/pip/wheels/bc/92/f0/243288f899c2eacdfa8c5f9aede4c71a9bad0ee26a01dc5ead\n",
            "Successfully built rpunct langdetect seqeval\n",
            "Installing collected packages: watchdog, tensorboardx, nvidia-nvjitlink-cu12, nvidia-curand-cu12, nvidia-cufft-cu12, nvidia-cuda-runtime-cu12, nvidia-cuda-nvrtc-cu12, nvidia-cuda-cupti-cu12, nvidia-cublas-cu12, langdetect, pydeck, nvidia-cusparse-cu12, nvidia-cudnn-cu12, seqeval, nvidia-cusolver-cu12, streamlit, simpletransformers, rpunct\n",
            "  Attempting uninstall: nvidia-nvjitlink-cu12\n",
            "    Found existing installation: nvidia-nvjitlink-cu12 12.5.82\n",
            "    Uninstalling nvidia-nvjitlink-cu12-12.5.82:\n",
            "      Successfully uninstalled nvidia-nvjitlink-cu12-12.5.82\n",
            "  Attempting uninstall: nvidia-curand-cu12\n",
            "    Found existing installation: nvidia-curand-cu12 10.3.6.82\n",
            "    Uninstalling nvidia-curand-cu12-10.3.6.82:\n",
            "      Successfully uninstalled nvidia-curand-cu12-10.3.6.82\n",
            "  Attempting uninstall: nvidia-cufft-cu12\n",
            "    Found existing installation: nvidia-cufft-cu12 11.2.3.61\n",
            "    Uninstalling nvidia-cufft-cu12-11.2.3.61:\n",
            "      Successfully uninstalled nvidia-cufft-cu12-11.2.3.61\n",
            "  Attempting uninstall: nvidia-cuda-runtime-cu12\n",
            "    Found existing installation: nvidia-cuda-runtime-cu12 12.5.82\n",
            "    Uninstalling nvidia-cuda-runtime-cu12-12.5.82:\n",
            "      Successfully uninstalled nvidia-cuda-runtime-cu12-12.5.82\n",
            "  Attempting uninstall: nvidia-cuda-nvrtc-cu12\n",
            "    Found existing installation: nvidia-cuda-nvrtc-cu12 12.5.82\n",
            "    Uninstalling nvidia-cuda-nvrtc-cu12-12.5.82:\n",
            "      Successfully uninstalled nvidia-cuda-nvrtc-cu12-12.5.82\n",
            "  Attempting uninstall: nvidia-cuda-cupti-cu12\n",
            "    Found existing installation: nvidia-cuda-cupti-cu12 12.5.82\n",
            "    Uninstalling nvidia-cuda-cupti-cu12-12.5.82:\n",
            "      Successfully uninstalled nvidia-cuda-cupti-cu12-12.5.82\n",
            "  Attempting uninstall: nvidia-cublas-cu12\n",
            "    Found existing installation: nvidia-cublas-cu12 12.5.3.2\n",
            "    Uninstalling nvidia-cublas-cu12-12.5.3.2:\n",
            "      Successfully uninstalled nvidia-cublas-cu12-12.5.3.2\n",
            "  Attempting uninstall: nvidia-cusparse-cu12\n",
            "    Found existing installation: nvidia-cusparse-cu12 12.5.1.3\n",
            "    Uninstalling nvidia-cusparse-cu12-12.5.1.3:\n",
            "      Successfully uninstalled nvidia-cusparse-cu12-12.5.1.3\n",
            "  Attempting uninstall: nvidia-cudnn-cu12\n",
            "    Found existing installation: nvidia-cudnn-cu12 9.3.0.75\n",
            "    Uninstalling nvidia-cudnn-cu12-9.3.0.75:\n",
            "      Successfully uninstalled nvidia-cudnn-cu12-9.3.0.75\n",
            "  Attempting uninstall: nvidia-cusolver-cu12\n",
            "    Found existing installation: nvidia-cusolver-cu12 11.6.3.83\n",
            "    Uninstalling nvidia-cusolver-cu12-11.6.3.83:\n",
            "      Successfully uninstalled nvidia-cusolver-cu12-11.6.3.83\n",
            "Successfully installed langdetect-1.0.9 nvidia-cublas-cu12-12.4.5.8 nvidia-cuda-cupti-cu12-12.4.127 nvidia-cuda-nvrtc-cu12-12.4.127 nvidia-cuda-runtime-cu12-12.4.127 nvidia-cudnn-cu12-9.1.0.70 nvidia-cufft-cu12-11.2.1.3 nvidia-curand-cu12-10.3.5.147 nvidia-cusolver-cu12-11.6.1.9 nvidia-cusparse-cu12-12.3.1.170 nvidia-nvjitlink-cu12-12.4.127 pydeck-0.9.1 rpunct-1.0.2 seqeval-1.2.2 simpletransformers-0.70.1 streamlit-1.45.1 tensorboardx-2.6.2.2 watchdog-6.0.0\n"
          ]
        }
      ]
    },
    {
      "cell_type": "code",
      "source": [
        "from rpunct import RestorePuncts\n",
        "rpunct = RestorePuncts()"
      ],
      "metadata": {
        "id": "4CyKhcYhHlQW"
      },
      "execution_count": 14,
      "outputs": []
    },
    {
      "cell_type": "code",
      "source": [
        "results= rpunct.punctuate(transcript_joined)\n",
        "print(results)"
      ],
      "metadata": {
        "colab": {
          "base_uri": "https://localhost:8080/"
        },
        "id": "zONZRkAAKoTE",
        "outputId": "6dbf5d41-3311-4053-9b0d-43fa353c1446"
      },
      "execution_count": 12,
      "outputs": [
        {
          "output_type": "stream",
          "name": "stderr",
          "text": [
            "/usr/local/lib/python3.11/dist-packages/simpletransformers/ner/ner_model.py:1643: FutureWarning: `torch.cuda.amp.autocast(args...)` is deprecated. Please use `torch.amp.autocast('cuda', args...)` instead.\n",
            "  with amp.autocast():\n"
          ]
        },
        {
          "output_type": "stream",
          "name": "stdout",
          "text": [
            "Hello and welcome and I can tell you it was a dry walk to the Gantry today. No rain in sight I'm Derek Ray and I'm joined for expert analysis by Stuart Robson And we can't wait for this one to start with justifiable cause it's Real Madrid taking on Real Madrid Thanks Derek Well this should be a decent game today. Both managers will have a game plan. both teams have a certain style of play and both sides will want to start quickly. I'm looking forward to this Gman Kane and Real Madrid Had the ball again Shevchenko and a chance for them to nudge in front. not out of the woods yet a very effective play and they might be on to something. Venicius J and real doing well to win it back and it will be a free kick to Real Madrid Jude Bellingham W Prous Here here's Kane Venicius, but he tried in vain to get himself back on side. Well, he needs to show greater awareness there and hold on to the ball a fraction longer. Ramos GES Puol and the ball with Shevchenko Shevchenko, How could he take them on and beat them? Can he put them in front and a goal? Now they have their opener and now they can celebrate. well. As you can see, this is a wonderful strike. He makes the perfect connection and he has so much Pace on it it's a great goal. Roal did well to regain control of the ball. Venicius Jun and nearing the halime interval Real Madrid Hold the edge here. Stuart How about your assessment of what you've seen from them? Oh big chance. Oh great defending Now Options are plenty M He prevented it from going over the line Harry Kane and the electronic board showing one additional minute and the whistle is sounded for halime. In this game, the ball moving. Again, Ra have the lead, but they won't be taking anything for granted. Venicius Jr Gman Shevchenko and Benzema at the Hub of this attack, let's see what he does next. and let's give credit to the [Applause] defending. Vus J and Real Madrid Have it back [Applause] Now Venicius J Gerard Karim Benzema Chevchenko [Applause] Ginola misfiring completely. Yeah, he's gone for power, but the contact was never right. It's a poor effort really. Ezri Cona Now Griezman. Well, a good tackle [Applause] Ramirez onto Gerard Gerard Oh big opportunity. Well, they needed a bit of goalkeeping inspiration and that's what they've got. Well, that just about keeps his team in this one. but are they good enough to go and get the equalizer and it goes to increase their advantage and will that be the goal that ends up secing in for them? Well, here's the replay and what a well delivered cross. This is perfectly placed and it ends up with a fairly simple finish. Certainly not much the goalkeeper can do about that and the ball is moving again. 2N is how it stands. Ezri Cona: Bellingham Well, we've entered the the final five minutes, really committed himself to the tackle and a throw in now. Jude Bellingham Real Madrid Have been awarded the free kick. Understandably, he wanted to give it a go, but straight at the keeper and that is that the end of the game. It goes into the books as a win for Real Madrid What did you think of their overall performance? Well, Derek It was fairly comfortable in the end because they were tactically Superior had better individuals and were always a threat going forward. It was a really good performance and a good result as well.\n"
          ]
        }
      ]
    },
    {
      "cell_type": "code",
      "source": [
        "!pip install google-generativeai"
      ],
      "metadata": {
        "colab": {
          "base_uri": "https://localhost:8080/"
        },
        "id": "TEkKCF5WLQNA",
        "outputId": "f32ff493-8c93-4507-e48a-4cb398b5ec49"
      },
      "execution_count": 32,
      "outputs": [
        {
          "output_type": "stream",
          "name": "stdout",
          "text": [
            "Requirement already satisfied: google-generativeai in /usr/local/lib/python3.11/dist-packages (0.8.5)\n",
            "Requirement already satisfied: google-ai-generativelanguage==0.6.15 in /usr/local/lib/python3.11/dist-packages (from google-generativeai) (0.6.15)\n",
            "Requirement already satisfied: google-api-core in /usr/local/lib/python3.11/dist-packages (from google-generativeai) (2.24.2)\n",
            "Requirement already satisfied: google-api-python-client in /usr/local/lib/python3.11/dist-packages (from google-generativeai) (2.169.0)\n",
            "Requirement already satisfied: google-auth>=2.15.0 in /usr/local/lib/python3.11/dist-packages (from google-generativeai) (2.38.0)\n",
            "Requirement already satisfied: protobuf in /usr/local/lib/python3.11/dist-packages (from google-generativeai) (5.29.4)\n",
            "Requirement already satisfied: pydantic in /usr/local/lib/python3.11/dist-packages (from google-generativeai) (2.11.4)\n",
            "Requirement already satisfied: tqdm in /usr/local/lib/python3.11/dist-packages (from google-generativeai) (4.67.1)\n",
            "Requirement already satisfied: typing-extensions in /usr/local/lib/python3.11/dist-packages (from google-generativeai) (4.13.2)\n",
            "Requirement already satisfied: proto-plus<2.0.0dev,>=1.22.3 in /usr/local/lib/python3.11/dist-packages (from google-ai-generativelanguage==0.6.15->google-generativeai) (1.26.1)\n",
            "Requirement already satisfied: googleapis-common-protos<2.0.0,>=1.56.2 in /usr/local/lib/python3.11/dist-packages (from google-api-core->google-generativeai) (1.70.0)\n",
            "Requirement already satisfied: requests<3.0.0,>=2.18.0 in /usr/local/lib/python3.11/dist-packages (from google-api-core->google-generativeai) (2.32.3)\n",
            "Requirement already satisfied: cachetools<6.0,>=2.0.0 in /usr/local/lib/python3.11/dist-packages (from google-auth>=2.15.0->google-generativeai) (5.5.2)\n",
            "Requirement already satisfied: pyasn1-modules>=0.2.1 in /usr/local/lib/python3.11/dist-packages (from google-auth>=2.15.0->google-generativeai) (0.4.2)\n",
            "Requirement already satisfied: rsa<5,>=3.1.4 in /usr/local/lib/python3.11/dist-packages (from google-auth>=2.15.0->google-generativeai) (4.9.1)\n",
            "Requirement already satisfied: httplib2<1.0.0,>=0.19.0 in /usr/local/lib/python3.11/dist-packages (from google-api-python-client->google-generativeai) (0.22.0)\n",
            "Requirement already satisfied: google-auth-httplib2<1.0.0,>=0.2.0 in /usr/local/lib/python3.11/dist-packages (from google-api-python-client->google-generativeai) (0.2.0)\n",
            "Requirement already satisfied: uritemplate<5,>=3.0.1 in /usr/local/lib/python3.11/dist-packages (from google-api-python-client->google-generativeai) (4.1.1)\n",
            "Requirement already satisfied: annotated-types>=0.6.0 in /usr/local/lib/python3.11/dist-packages (from pydantic->google-generativeai) (0.7.0)\n",
            "Requirement already satisfied: pydantic-core==2.33.2 in /usr/local/lib/python3.11/dist-packages (from pydantic->google-generativeai) (2.33.2)\n",
            "Requirement already satisfied: typing-inspection>=0.4.0 in /usr/local/lib/python3.11/dist-packages (from pydantic->google-generativeai) (0.4.0)\n",
            "Requirement already satisfied: grpcio<2.0dev,>=1.33.2 in /usr/local/lib/python3.11/dist-packages (from google-api-core[grpc]!=2.0.*,!=2.1.*,!=2.10.*,!=2.2.*,!=2.3.*,!=2.4.*,!=2.5.*,!=2.6.*,!=2.7.*,!=2.8.*,!=2.9.*,<3.0.0dev,>=1.34.1->google-ai-generativelanguage==0.6.15->google-generativeai) (1.71.0)\n",
            "Requirement already satisfied: grpcio-status<2.0.dev0,>=1.33.2 in /usr/local/lib/python3.11/dist-packages (from google-api-core[grpc]!=2.0.*,!=2.1.*,!=2.10.*,!=2.2.*,!=2.3.*,!=2.4.*,!=2.5.*,!=2.6.*,!=2.7.*,!=2.8.*,!=2.9.*,<3.0.0dev,>=1.34.1->google-ai-generativelanguage==0.6.15->google-generativeai) (1.71.0)\n",
            "Requirement already satisfied: pyparsing!=3.0.0,!=3.0.1,!=3.0.2,!=3.0.3,<4,>=2.4.2 in /usr/local/lib/python3.11/dist-packages (from httplib2<1.0.0,>=0.19.0->google-api-python-client->google-generativeai) (3.2.3)\n",
            "Requirement already satisfied: pyasn1<0.7.0,>=0.6.1 in /usr/local/lib/python3.11/dist-packages (from pyasn1-modules>=0.2.1->google-auth>=2.15.0->google-generativeai) (0.6.1)\n",
            "Requirement already satisfied: charset-normalizer<4,>=2 in /usr/local/lib/python3.11/dist-packages (from requests<3.0.0,>=2.18.0->google-api-core->google-generativeai) (3.4.2)\n",
            "Requirement already satisfied: idna<4,>=2.5 in /usr/local/lib/python3.11/dist-packages (from requests<3.0.0,>=2.18.0->google-api-core->google-generativeai) (3.10)\n",
            "Requirement already satisfied: urllib3<3,>=1.21.1 in /usr/local/lib/python3.11/dist-packages (from requests<3.0.0,>=2.18.0->google-api-core->google-generativeai) (2.4.0)\n",
            "Requirement already satisfied: certifi>=2017.4.17 in /usr/local/lib/python3.11/dist-packages (from requests<3.0.0,>=2.18.0->google-api-core->google-generativeai) (2025.4.26)\n"
          ]
        }
      ]
    },
    {
      "cell_type": "code",
      "source": [
        "import google.generativeai as genai\n",
        "api_key=\"\""
      ],
      "metadata": {
        "id": "yV_m0xiFLZyi"
      },
      "execution_count": 33,
      "outputs": []
    },
    {
      "cell_type": "code",
      "source": [
        "prompt=f'\"summarize this text and Answer Questions based on: \\ntext = \"{transcript_joined}.what is the name of the gool scorer\"'"
      ],
      "metadata": {
        "id": "8BDddBL2MmxK"
      },
      "execution_count": 40,
      "outputs": []
    },
    {
      "cell_type": "code",
      "source": [
        "genai.configure(api_key=api_key)\n",
        "\n",
        "# Use 'GenerativeModel' instead of 'generativeModel'\n",
        "model = genai.GenerativeModel(model_name=\"gemini-1.5-flash\")\n",
        "response = model.generate_content(prompt)\n",
        "print(response.text)"
      ],
      "metadata": {
        "colab": {
          "base_uri": "https://localhost:8080/",
          "height": 163
        },
        "id": "6QWREJUdabfQ",
        "outputId": "ac0c5a5a-18ac-4165-f78a-71e33e3e2294"
      },
      "execution_count": 41,
      "outputs": [
        {
          "output_type": "stream",
          "name": "stdout",
          "text": [
            "This text is a play-by-play commentary of a Real Madrid soccer (football) match.  Derek Ray and Stuart Robson provide commentary, describing the action, individual players' performances (including goals and near misses by players like Shevchenko, Vinicius Jr., and Benzema), and the overall flow of the game. Real Madrid wins the match.\n",
            "\n",
            "**Questions and Answers:**\n",
            "\n",
            "* **What is the name of the goal scorer?**  The commentary doesn't explicitly state *only one* goal scorer.  Shevchenko is mentioned as scoring a goal that puts Real Madrid in the lead.  The commentary later describes another goal, but doesn't specify the scorer.\n",
            "\n",
            "\n"
          ]
        }
      ]
    }
  ]
}